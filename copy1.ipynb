{
 "cells": [
  {
   "cell_type": "code",
   "execution_count": 1,
   "id": "6d4ddc1d-f872-45a2-b9c0-7e54031338cd",
   "metadata": {},
   "outputs": [
    {
     "name": "stdout",
     "output_type": "stream",
     "text": [
      "C:\\Users\\kyle.liu\\q3\\Anzheng Fashion Group Co Ltd SHSE 603839 Financials.xls\n",
      "C:\\Users\\kyle.liu\\q3\\Dazzle Fashion Co Ltd SHSE 603587 Financials.xls\n",
      "C:\\Users\\kyle.liu\\q3\\Jinhong Fashion Group Co Ltd SHSE 603518 Financials.xls\n",
      "C:\\Users\\kyle.liu\\q3\\Shenzhen Ellassay Fashion Co Ltd SHSE 603808 Financials.xls\n"
     ]
    }
   ],
   "source": [
    "import pandas as pd\n",
    "import os\n",
    "pd.set_option('display.max_columns', None)\n",
    "pd.set_option('display.max_rows', None)\n",
    "for root, dirs, files in os.walk(r\"C:\\Users\\kyle.liu\\q3\", topdown=False):\n",
    "    for name in files:\n",
    "        print(os.path.join(root, name))\n",
    "    for name in dirs:\n",
    "        print(os.path.join(root, name))"
   ]
  },
  {
   "cell_type": "code",
   "execution_count": 2,
   "id": "70e6dc9e",
   "metadata": {},
   "outputs": [
    {
     "data": {
      "text/plain": [
       "4"
      ]
     },
     "execution_count": 2,
     "metadata": {},
     "output_type": "execute_result"
    }
   ],
   "source": [
    "len(files)"
   ]
  },
  {
   "cell_type": "code",
   "execution_count": 4,
   "id": "a9fac7e0",
   "metadata": {},
   "outputs": [
    {
     "name": "stdout",
     "output_type": "stream",
     "text": [
      "WARNING *** file size (196106) not 512 + multiple of sector size (512)\n",
      "WARNING *** file size (196106) not 512 + multiple of sector size (512)\n",
      "WARNING *** file size (189450) not 512 + multiple of sector size (512)\n",
      "WARNING *** file size (189450) not 512 + multiple of sector size (512)\n",
      "WARNING *** file size (190474) not 512 + multiple of sector size (512)\n",
      "WARNING *** file size (190474) not 512 + multiple of sector size (512)\n",
      "WARNING *** file size (199178) not 512 + multiple of sector size (512)\n",
      "WARNING *** file size (199178) not 512 + multiple of sector size (512)\n"
     ]
    }
   ],
   "source": [
    "array = []\n",
    "for i in range(len(files)):\n",
    "    ####\n",
    "    def grab_tables(report):\n",
    "        def re_space(x):\n",
    "                if x == 0:\n",
    "                    x = 0\n",
    "                else:\n",
    "                    return x.replace(\" \",\"_\")\n",
    "        figures = report[16:len(report)]\n",
    "        figures = figures.dropna(axis=1,how ='all')\n",
    "        figures.columns=['Subjects','2019LTM9M','2020LTM9M','2021LTM9M']\n",
    "        df = figures.reset_index(drop=True)\n",
    "        df = df.replace('-','0').dropna(axis=0)\n",
    "        df['Subjects'] = df['Subjects'].apply(lambda x:re_space(x))\n",
    "        df = df[~df.isin(['NM'])]\n",
    "        df=df[~df['Subjects'].isin(['Filing_Date','Restatement_Type','Calculation_Type','Payout_Ratio_%','Effective Tax Rate %'])]\n",
    "        df[['2019LTM9M','2020LTM9M','2021LTM9M']]=df[['2019LTM9M','2020LTM9M','2021LTM9M']].astype(float)\n",
    "        return df\n",
    "    ####\n",
    "    def grab_tables2(report):\n",
    "        def re_space(x):\n",
    "                if x == 0:\n",
    "                    x = 0\n",
    "                else:\n",
    "                    return x.replace(\" \",\"_\")\n",
    "        figures = report[16:len(report)]\n",
    "        figures = figures.dropna(axis=1,how ='all')\n",
    "        figures.columns=['Subjects',\n",
    "                        \"Q1Mar-31-2019\",\n",
    "                        \"Q2Jun-30-2019\",\n",
    "                        \"2019LTM9M\",#注意这里！！！\n",
    "                        \"Q4Dec-31-2019\",\n",
    "                        \"Q1Mar-31-2020\",\n",
    "                        \"Q2Jun-30-2020\",\n",
    "                        \"2020LTM9M\",\n",
    "                        \"Q4Dec-31-2020\",\n",
    "                        \"Q1Mar-31-2021\",\n",
    "                        \"Q2Jun-30-2021\",\n",
    "                        \"2021LTM9M\",\n",
    "                        ]\n",
    "        df = figures.reset_index(drop=True)\n",
    "        df = df.replace('-','0').dropna(axis=0)\n",
    "        df['Subjects'] = df['Subjects'].apply(lambda x:re_space(x))\n",
    "        df=df[~df['Subjects'].isin(['Filing_Date','Restatement_Type','Calculation_Type'])]\n",
    "        df[[\"Q1Mar-31-2019\",\n",
    "            \"Q2Jun-30-2019\",\n",
    "            \"2019LTM9M\",\n",
    "            \"Q4Dec-31-2019\",\n",
    "            \"Q1Mar-31-2020\",\n",
    "            \"Q2Jun-30-2020\",\n",
    "            \"2020LTM9M\",\n",
    "            \"Q4Dec-31-2020\",\n",
    "            \"Q1Mar-31-2021\",\n",
    "            \"Q2Jun-30-2021\",\n",
    "            \"2021LTM9M\",\n",
    "            ]]=df[[\"Q1Mar-31-2019\",\n",
    "            \"Q2Jun-30-2019\",\n",
    "            \"2019LTM9M\",\n",
    "            \"Q4Dec-31-2019\",\n",
    "            \"Q1Mar-31-2020\",\n",
    "            \"Q2Jun-30-2020\",\n",
    "            \"2020LTM9M\",\n",
    "            \"Q4Dec-31-2020\",\n",
    "            \"Q1Mar-31-2021\",\n",
    "            \"Q2Jun-30-2021\",\n",
    "            \"2021LTM9M\",\n",
    "            ]].astype(float)\n",
    "        return df\n",
    "    ####\n",
    "    def grab_data(company_name,period,df):\n",
    "        output = pd.DataFrame()\n",
    "        output['Company'] = [company_name]\n",
    "        output['Time'] = [period]\n",
    "        output['Revenue'] = df.loc[df['Subjects']== 'Revenue',period].values\n",
    "        output['COGS'] = df.loc[df['Subjects']== 'Cost_Of_Goods_Sold',period].values\n",
    "        output['Net_Income'] = df.loc[df['Subjects']== '__Net_Income',period].values\n",
    "        output['Sale_Exp'] = df.loc[df['Subjects']== 'Selling_and_Marketing_Exp.',period].values\n",
    "        output['Managment_Exp'] = df.loc[df['Subjects']== 'General_and_Administrative_Exp.',period].values\n",
    "        if len(df.loc[df['Subjects']== 'R&D_Exp.',period].values) == 0:\n",
    "            output['Research_Exp'] = 0\n",
    "        else:\n",
    "            output['Research_Exp'] = df.loc[df['Subjects']== 'R&D_Exp.',period].values\n",
    "        return output\n",
    "    ####\n",
    "    def grab_bsdata(company_name,period,df):\n",
    "        output = pd.DataFrame()\n",
    "        output['Company'] = [company_name]\n",
    "        output['Time'] = [period]\n",
    "        output['Total_Assets'] = df.loc[df['Subjects']== 'Total_Assets',period].values\n",
    "        output['Total_Receivables'] = df.loc[df['Subjects']== '__Total_Receivables',period].values\n",
    "        output['Inventory'] = df.loc[df['Subjects']== 'Inventory',period].values\n",
    "        output['Total_Current_Assets'] = df.loc[df['Subjects']== '__Total_Current_Assets',period].values\n",
    "        if  len(df.loc[df['Subjects']== 'Short-term_Borrowings',period].values) == 0:\n",
    "            output['Short_term_Borrowings'] = 0\n",
    "        else:\n",
    "            output['Short_term_Borrowings'] = df.loc[df['Subjects']== 'Short-term_Borrowings',period].values\n",
    "        output['Total_Cash_&_ST_Investments'] = df.loc[df['Subjects']== '__Total_Cash_&_ST_Investments',period].values\n",
    "        output['Total_Liabilities'] = df.loc[df['Subjects']== 'Total_Liabilities',period].values\n",
    "        output['__Total_Current_Liabilities'] = df.loc[df['Subjects']== '__Total_Current_Liabilities',period].values\n",
    "        output['Total_Equity'] = df.loc[df['Subjects']== 'Total_Equity',period].values\n",
    "        return output\n",
    "######def end\n",
    "######read begin\n",
    "   \n",
    "   \n",
    "    IS = pd.read_excel(os.path.join(root, files[i]) ,sheet_name='Income Statement')\n",
    "    BS = pd.read_excel(os.path.join(root, files[i]) ,sheet_name='Balance Sheet')\n",
    "    #CF = pd.read_excel(os.path.join(root, files[i]) ,sheet_name='Cash Flow')\n",
    "    balance_sheet = grab_tables2(BS)\n",
    "    income_statement = grab_tables(IS)\n",
    "    #cash_flow = grab_tables(CF)\n",
    "    l =['2019LTM9M','2020LTM9M','2021LTM9M']\n",
    "    \n",
    "    for j in l:\n",
    "        dadabs = grab_bsdata(files[i],j,balance_sheet)\n",
    "        dadais = grab_data(files[i],j,income_statement)   \n",
    "        dada = pd.merge(dadabs,dadais, on = ['Company','Time'])\n",
    "        array.append(dada)\n"
   ]
  },
  {
   "cell_type": "code",
   "execution_count": 5,
   "id": "29072734",
   "metadata": {},
   "outputs": [],
   "source": [
    "array = pd.concat(array)\n"
   ]
  },
  {
   "cell_type": "code",
   "execution_count": 7,
   "id": "44f4599a",
   "metadata": {},
   "outputs": [
    {
     "data": {
      "text/plain": [
       "12"
      ]
     },
     "execution_count": 7,
     "metadata": {},
     "output_type": "execute_result"
    }
   ],
   "source": [
    "len(array)"
   ]
  },
  {
   "cell_type": "code",
   "execution_count": 9,
   "id": "c4d4e4fe",
   "metadata": {},
   "outputs": [],
   "source": [
    "data9m = pd.DataFrame(array)\n",
    "data9m.to_csv('data9m.csv')"
   ]
  },
  {
   "cell_type": "code",
   "execution_count": 45,
   "id": "e1801473",
   "metadata": {},
   "outputs": [],
   "source": [
    "'''''''''''\n",
    "data9m['毛利率'] = (data9m['Revenue']-data9m['COGS'])/data9m['Revenue']\n",
    "data9m['毛利'] = data9m['Revenue']-data9m['COGS']\n",
    "data9m['營業利益率'] = data9m['Net_Income']/data9m['Revenue']\n"
   ]
  },
  {
   "cell_type": "code",
   "execution_count": 54,
   "id": "02d462a9",
   "metadata": {},
   "outputs": [
    {
     "name": "stderr",
     "output_type": "stream",
     "text": [
      "C:\\Users\\kyle.liu\\Anaconda3\\lib\\site-packages\\matplotlib\\backends\\backend_agg.py:238: RuntimeWarning: Glyph 27611 missing from current font.\n",
      "  font.set_text(s, 0.0, flags=flags)\n",
      "C:\\Users\\kyle.liu\\Anaconda3\\lib\\site-packages\\matplotlib\\backends\\backend_agg.py:238: RuntimeWarning: Glyph 21033 missing from current font.\n",
      "  font.set_text(s, 0.0, flags=flags)\n",
      "C:\\Users\\kyle.liu\\Anaconda3\\lib\\site-packages\\matplotlib\\backends\\backend_agg.py:238: RuntimeWarning: Glyph 29575 missing from current font.\n",
      "  font.set_text(s, 0.0, flags=flags)\n",
      "C:\\Users\\kyle.liu\\Anaconda3\\lib\\site-packages\\matplotlib\\backends\\backend_agg.py:201: RuntimeWarning: Glyph 27611 missing from current font.\n",
      "  font.set_text(s, 0, flags=flags)\n",
      "C:\\Users\\kyle.liu\\Anaconda3\\lib\\site-packages\\matplotlib\\backends\\backend_agg.py:201: RuntimeWarning: Glyph 21033 missing from current font.\n",
      "  font.set_text(s, 0, flags=flags)\n",
      "C:\\Users\\kyle.liu\\Anaconda3\\lib\\site-packages\\matplotlib\\backends\\backend_agg.py:201: RuntimeWarning: Glyph 29575 missing from current font.\n",
      "  font.set_text(s, 0, flags=flags)\n"
     ]
    },
    {
     "data": {
      "image/png": "[encoded data removed]",
      "text/plain": [
       "<Figure size 720x720 with 1 Axes>"
      ]
     },
     "metadata": {
      "needs_background": "light"
     },
     "output_type": "display_data"
    }
   ],
   "source": [
    "'''''''''\n",
    "import matplotlib.pyplot as plt\n",
    "import seaborn as sns\n",
    "plt.figure(figsize=(10,10))\n",
    "plot = sns.barplot(x='Company',y='毛利率',data=data9m[data9m['Time']=='2019LTM9M'])\n",
    "plt.show()\n",
    "''''''''''''"
   ]
  },
  {
   "cell_type": "code",
   "execution_count": null,
   "id": "8882c1ad",
   "metadata": {},
   "outputs": [],
   "source": []
  }
 ],
 "metadata": {
  "kernelspec": {
   "display_name": "Python 3",
   "language": "python",
   "name": "python3"
  },
  "language_info": {
   "codemirror_mode": {
    "name": "ipython",
    "version": 3
   },
   "file_extension": ".py",
   "mimetype": "text/x-python",
   "name": "python",
   "nbconvert_exporter": "python",
   "pygments_lexer": "ipython3",
   "version": "3.8.8"
  }
 },
 "nbformat": 4,
 "nbformat_minor": 5
}
